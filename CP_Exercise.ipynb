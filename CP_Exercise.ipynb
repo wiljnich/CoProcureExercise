{
 "cells": [
  {
   "cell_type": "code",
   "execution_count": 3,
   "metadata": {},
   "outputs": [
    {
     "name": "stdout",
     "output_type": "stream",
     "text": [
      "{\"title\": \"Fleet GPS & Telematics\", \"contract_number\": \"#022217-WEX\", \"expiration\": \"06/01/2021\", \"files\": {\"contract-forms\": \"https://www.sourcewell-mn.gov/sites/default/files/2018-05/WEX%20Contract%20022217.pdf\"}, \"vendor\": {\"name\": \"WEX\", \"contact\": {\"name\": \"Denise Baumgart\", \"phone\": \"888-842-0075\", \"email\": \"denise.baumgart@wexinc.com\"}}}\n"
     ]
    }
   ],
   "source": [
    "# Import necessary packages\n",
    "from bs4 import BeautifulSoup as bs\n",
    "import requests\n",
    "from datetime import datetime\n",
    "import json\n",
    "\n",
    "# Set up BeautifulSoup base details\n",
    "url  = requests.get(\"https://www.sourcewell-mn.gov/cooperative-purchasing/022217-wex\")\n",
    "data = url.text\n",
    "site_content = bs(data)\n",
    "\n",
    "# Build master dictionary\n",
    "master = {}\n",
    "for a in site_content.find_all(\"div\",{\"class\":\"vendor-contract-header__content\"}):\n",
    "    for b in a.find_all(\"p\",{\"class\":\"lead\"}):\n",
    "            if b is not None:\n",
    "                master['title'] = b.text\n",
    "    for c in a.find_all(\"p\"):\n",
    "            if c is not None:\n",
    "                master['contract_number'] = c.text.split()[0]\n",
    "# Had difficulty parsing the date - left it in text format for the purposes of the time limit. Would normally use datetime.strptime / strftime\n",
    "                master['expiration'] = c.text.split()[3]\n",
    "\n",
    "    # Build files sub-dictionary\n",
    "    files = {}\n",
    "    for a in site_content.find_all(\"div\",{\"id\":\"tab-contract-documents\"}):\n",
    "        for b in a.find_all(\"span\", {\"class\":\"file file--mime-application-pdf file--application-pdf icon-before\"}):\n",
    "            for c in b.find_all(\"span\",{\"class\":\"file-link\"}):\n",
    "                   if c.text == 'Contract Forms ':\n",
    "                        files['contract-forms'] = c.a['href']\n",
    "                        \n",
    "    # Incorporate files sub-dictionary into master\n",
    "    master['files'] = files\n",
    "    \n",
    "    # Build vendor sub-dictionary\n",
    "    vendor = {}\n",
    "    for a in site_content.find_all(\"div\",{\"class\":\"vendor-contract-header__content\"}):\n",
    "        for b in a.find_all(\"h1\",{\"class\":\"h2\"}):\n",
    "                if b is not None:\n",
    "                    vendor['name'] = b.text\n",
    "        \n",
    "    # Build contact sub-dictionary within vendor    \n",
    "        contact = {}\n",
    "        for a in site_content.find_all(\"div\",{\"id\":\"tab-contact-information\"}):\n",
    "            for b in a.find_all(\"article\", {\"role\":\"article\", \"class\":\"contract-marketing full clearfix vendor-contract\"}):\n",
    "                for c in b.find_all(\"div\", {\"class\":\"inline-user\"}):\n",
    "                    for d in c.find_all(\"div\", {\"class\": None}):\n",
    "                        contact['name'] = d.text\n",
    "                        \n",
    "        for a in site_content.find_all(\"div\",{\"id\":\"tab-contact-information\"}):\n",
    "            for b in a.find_all(\"article\", {\"role\":\"article\", \"class\":\"contract-marketing full clearfix vendor-contract\"}):\n",
    "                for c in b.find_all(\"div\", {\"class\":\"inline-user\"}):\n",
    "                    for d in c.find_all(\"div\", {\"class\":\"field--item\"}):\n",
    "                        if not \"@\" in d.text: \n",
    "                            contact['phone'] = d.text.strip()\n",
    "        \n",
    "        for a in site_content.find_all(\"div\",{\"id\":\"tab-contact-information\"}):\n",
    "            for b in a.find_all(\"article\", {\"role\":\"article\", \"class\":\"contract-marketing full clearfix vendor-contract\"}):\n",
    "                for c in b.find_all(\"div\", {\"class\":\"inline-user\"}):\n",
    "                    for d in c.find_all(\"div\"):\n",
    "                        contact['email'] = d.text\n",
    "\n",
    "    # Incorporate contact sub-dictionary into vendor\n",
    "        vendor['contact'] = contact\n",
    "\n",
    "    # Incorporate vendor sub-dictionary into master\n",
    "    master['vendor'] = vendor\n",
    "\n",
    "\n",
    "master = json.dumps(master)\n",
    "print(master)"
   ]
  },
  {
   "cell_type": "code",
   "execution_count": null,
   "metadata": {},
   "outputs": [],
   "source": []
  }
 ],
 "metadata": {
  "kernelspec": {
   "display_name": "Python 3",
   "language": "python",
   "name": "python3"
  },
  "language_info": {
   "codemirror_mode": {
    "name": "ipython",
    "version": 3
   },
   "file_extension": ".py",
   "mimetype": "text/x-python",
   "name": "python",
   "nbconvert_exporter": "python",
   "pygments_lexer": "ipython3",
   "version": "3.7.2"
  }
 },
 "nbformat": 4,
 "nbformat_minor": 2
}


•	How would you retrieve all the information on this site?
o	To retrieve other information on the site, I would create a broad scraper and pull the necessary information into a JSON file, looping and creating a new row in the output for each contract page on the site.
•	Is there more information on each page that might be relevant to people who want to use this contract?
o	Additional information that would be relevant would be the contact information for the procurement officials, the other files, as well as the pricing structure.
